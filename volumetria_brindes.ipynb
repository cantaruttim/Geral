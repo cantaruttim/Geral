{
 "cells": [
  {
   "cell_type": "code",
   "execution_count": 6,
   "id": "d0df9b74",
   "metadata": {},
   "outputs": [
    {
     "ename": "FileNotFoundError",
     "evalue": "[Errno 2] No such file or directory: '/.files/Checklist CHECK IN.xlsx'",
     "output_type": "error",
     "traceback": [
      "\u001b[31m---------------------------------------------------------------------------\u001b[39m",
      "\u001b[31mFileNotFoundError\u001b[39m                         Traceback (most recent call last)",
      "\u001b[36mCell\u001b[39m\u001b[36m \u001b[39m\u001b[32mIn[6]\u001b[39m\u001b[32m, line 11\u001b[39m\n\u001b[32m      8\u001b[39m dados_excel = {}\n\u001b[32m     10\u001b[39m \u001b[38;5;66;03m# Loop por todos os arquivos na pasta\u001b[39;00m\n\u001b[32m---> \u001b[39m\u001b[32m11\u001b[39m \u001b[38;5;28;01mfor\u001b[39;00m arquivo \u001b[38;5;129;01min\u001b[39;00m \u001b[43mos\u001b[49m\u001b[43m.\u001b[49m\u001b[43mlistdir\u001b[49m\u001b[43m(\u001b[49m\u001b[43mpasta\u001b[49m\u001b[43m)\u001b[49m:\n\u001b[32m     12\u001b[39m     \u001b[38;5;28;01mif\u001b[39;00m arquivo.endswith(\u001b[33m'\u001b[39m\u001b[33m.xlsx\u001b[39m\u001b[33m'\u001b[39m):\n\u001b[32m     13\u001b[39m         caminho_arquivo = os.path.join(pasta, arquivo)\n",
      "\u001b[31mFileNotFoundError\u001b[39m: [Errno 2] No such file or directory: '/.files/Checklist CHECK IN.xlsx'"
     ]
    }
   ],
   "source": [
    "import os\n",
    "import pandas as pd\n",
    "planilha = 'volumetria_brindes'\n",
    "\n",
    "pasta = '/.files/Checklist CHECK IN.xlsx'\n",
    "\n",
    "# Dicionário para armazenar os DataFrames\n",
    "dados_excel = {}\n",
    "\n",
    "# Loop por todos os arquivos na pasta\n",
    "for arquivo in os.listdir(pasta):\n",
    "    if arquivo.endswith('.xlsx'):\n",
    "        caminho_arquivo = os.path.join(pasta, arquivo)\n",
    "        \n",
    "        # Lê o arquivo Excel usando pandas\n",
    "        try:\n",
    "            df = pd.read_excel(caminho_arquivo, sheet_name=planilha, engine='openpyxl')\n",
    "            dados_excel[arquivo] = df\n",
    "            print(f\"Arquivo lido com sucesso: {arquivo}\")\n",
    "        except Exception as e:\n",
    "            print(f\"Erro ao ler {arquivo}: {e}\")\n",
    "\n",
    "print(df)\n"
   ]
  },
  {
   "cell_type": "code",
   "execution_count": null,
   "id": "c7e6a3d3",
   "metadata": {},
   "outputs": [],
   "source": []
  }
 ],
 "metadata": {
  "kernelspec": {
   "display_name": "checkin",
   "language": "python",
   "name": "python3"
  },
  "language_info": {
   "codemirror_mode": {
    "name": "ipython",
    "version": 3
   },
   "file_extension": ".py",
   "mimetype": "text/x-python",
   "name": "python",
   "nbconvert_exporter": "python",
   "pygments_lexer": "ipython3",
   "version": "3.13.1"
  }
 },
 "nbformat": 4,
 "nbformat_minor": 5
}
